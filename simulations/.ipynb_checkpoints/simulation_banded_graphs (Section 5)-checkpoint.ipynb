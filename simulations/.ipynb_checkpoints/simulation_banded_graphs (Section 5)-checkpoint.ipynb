{
 "cells": [
  {
   "cell_type": "code",
   "execution_count": 1,
   "metadata": {},
   "outputs": [],
   "source": [
    "import numpy as np\n",
    "import scipy.linalg as la\n",
    "import matplotlib.pyplot as plt\n",
    "import choix"
   ]
  },
  {
   "cell_type": "code",
   "execution_count": 2,
   "metadata": {},
   "outputs": [],
   "source": [
    "plt.rcParams.update({\n",
    "    \"text.usetex\": True,\n",
    "    \"font.family\": \"sans-serif\",\n",
    "    \"font.sans-serif\": [\"Helvetica\"],\n",
    "    \"font.size\": 15})\n",
    "# for Palatino and other serif fonts use:\n",
    "# plt.rcParams.update({\n",
    "#     \"text.usetex\": True,\n",
    "#     \"font.family\": \"serif\",\n",
    "#     \"font.serif\": [\"Palatino\"],\n",
    "# })"
   ]
  },
  {
   "cell_type": "code",
   "execution_count": 46,
   "metadata": {},
   "outputs": [],
   "source": [
    "import ladyns as lds"
   ]
  },
  {
   "cell_type": "markdown",
   "metadata": {},
   "source": [
    "## simulation function"
   ]
  },
  {
   "cell_type": "code",
   "execution_count": 36,
   "metadata": {},
   "outputs": [],
   "source": [
    "def simulate(d, w_star, A):\n",
    "    data = []\n",
    "    for i in np.arange(d-1):\n",
    "        for j in np.arange(i+1, d):\n",
    "            p = 1 / (1 + np.exp(w_star[i]-w_star[j])) # the probability that j wins i\n",
    "            for _ in np.arange(A[i,j].astype(int)):\n",
    "                res = np.random.binomial(1, p)\n",
    "                if res < 0.5: # i wins j\n",
    "                    data.append((i, j))\n",
    "                else: # j wins i\n",
    "                    data.append((j, i))\n",
    "    \n",
    "    w_hat = choix.ilsr_pairwise(d, data)\n",
    "    \n",
    "    return w_hat, np.sum((w_star - w_hat)**2)"
   ]
  },
  {
   "cell_type": "markdown",
   "metadata": {},
   "source": [
    "# $\\ell_2$ error rate with respect to maximal performance difference $B$"
   ]
  },
  {
   "cell_type": "markdown",
   "metadata": {},
   "source": [
    "## parameters"
   ]
  },
  {
   "cell_type": "code",
   "execution_count": 77,
   "metadata": {},
   "outputs": [],
   "source": [
    "d = 100\n",
    "W = np.floor(d/np.sqrt(np.log(d))/4).astype(int)\n",
    "B = 4*np.sqrt(np.log(d))\n",
    "T = 5"
   ]
  },
  {
   "cell_type": "code",
   "execution_count": 79,
   "metadata": {},
   "outputs": [],
   "source": [
    "Bs = np.exp(np.linspace(-1,1,21))*B\n",
    "n_iter = 100"
   ]
  },
  {
   "cell_type": "markdown",
   "metadata": {},
   "source": [
    "## simulation"
   ]
  },
  {
   "cell_type": "code",
   "execution_count": 80,
   "metadata": {},
   "outputs": [
    {
     "name": "stdout",
     "output_type": "stream",
     "text": [
      "0-th B: 3.157827\n",
      "1-th B: 3.489939\n",
      "2-th B: 3.856979\n",
      "3-th B: 4.262621\n",
      "4-th B: 4.710925\n",
      "5-th B: 5.206377\n",
      "6-th B: 5.753936\n",
      "7-th B: 6.359083\n",
      "8-th B: 7.027874\n",
      "9-th B: 7.767001\n",
      "10-th B: 8.583864\n",
      "11-th B: 9.486637\n",
      "12-th B: 10.484355\n",
      "13-th B: 11.587005\n",
      "14-th B: 12.805620\n",
      "15-th B: 14.152399\n",
      "16-th B: 15.640820\n",
      "17-th B: 17.285780\n",
      "18-th B: 19.103741\n",
      "19-th B: 21.112899\n",
      "20-th B: 23.333362\n"
     ]
    }
   ],
   "source": [
    "l2es_B = np.zeros((len(Bs), n_iter))\n",
    "for i, B in enumerate(Bs):\n",
    "    print(\"%d-th B: %f\"%(i, B))\n",
    "    w_star = 2*B*np.arange(d)/d - B\n",
    "    A_matrix = np.logical_and(np.arange(d)[:,None] != np.arange(d),\n",
    "                   np.abs(np.arange(d)[:,None] - np.arange(d)) <= W) * T\n",
    "    \n",
    "    for j in np.arange(n_iter):\n",
    "        _, l2e = simulate(d, w_star, A_matrix)\n",
    "        l2es_B[i,j] = l2e"
   ]
  },
  {
   "cell_type": "markdown",
   "metadata": {},
   "source": [
    "## theoretical values"
   ]
  },
  {
   "cell_type": "code",
   "execution_count": 81,
   "metadata": {},
   "outputs": [],
   "source": [
    "A_matrix = np.logical_and(np.arange(d)[:,None] != np.arange(d),\n",
    "                          np.abs(np.arange(d)[:,None] - np.arange(d)) <= W) * T\n",
    "L_matrix = (np.diag(np.sum(A_matrix,0)) - A_matrix) / np.sum(A_matrix) * 2"
   ]
  },
  {
   "cell_type": "code",
   "execution_count": 82,
   "metadata": {},
   "outputs": [],
   "source": [
    "u, v = la.eigh(L_matrix)\n",
    "L_isqrt = v @ (np.concatenate([[0], 1/np.sqrt(u[1:])])*v).T"
   ]
  },
  {
   "cell_type": "code",
   "execution_count": 83,
   "metadata": {},
   "outputs": [],
   "source": [
    "lambdas_2_I_B = np.zeros((len(Bs)))\n",
    "kappa_B = np.zeros((len(Bs)))\n",
    "for i, B in enumerate(Bs):\n",
    "    P_matrix = 1/(1+np.exp(2*B*(np.arange(d) - np.arange(d)[:,None])/d))\n",
    "    B_matrix = P_matrix * (1-P_matrix) * A_matrix\n",
    "    I_matrix = (np.diag(np.sum(B_matrix,0)) - B_matrix) / np.sum(A_matrix) * 2\n",
    "    \n",
    "    lambdas_2_I_B[i] = la.eigvalsh(I_matrix)[1]\n",
    "    kappa_B[i] = 1/la.eigvalsh(L_isqrt @ I_matrix @ L_isqrt)[-1]"
   ]
  },
  {
   "cell_type": "markdown",
   "metadata": {},
   "source": [
    "## plots"
   ]
  },
  {
   "cell_type": "code",
   "execution_count": 84,
   "metadata": {},
   "outputs": [
    {
     "data": {
      "image/png": "[encoded data removed]",
      "text/plain": [
       "<Figure size 324x288 with 1 Axes>"
      ]
     },
     "metadata": {
      "needs_background": "light"
     },
     "output_type": "display_data"
    }
   ],
   "source": [
    "plt.figure(figsize=(4.5,4))\n",
    "plt.plot(Bs, np.mean(l2es_B,1), label=r'$\\|\\hat{w}-w^*\\|_2^2$')\n",
    "plt.fill_between(Bs, np.mean(l2es_B,1)+2*np.std(l2es_B,1)/np.sqrt(n_iter),\n",
    "                 np.mean(l2es_B,1)-2*np.std(l2es_B,1)/np.sqrt(n_iter), alpha=0.3)\n",
    "plt.plot(Bs, kappa_B/lambdas_2_I_B/np.exp(8), label=r'$\\frac{\\kappa}{\\lambda_2(I(w^*))}$')\n",
    "plt.plot(Bs, np.exp(8*Bs-12), label=r'$\\frac{\\zeta^2}{\\gamma^2\\lambda_2(L)}$')\n",
    "plt.xlabel(r'$B$'); plt.yscale(\"log\"); # plt.legend()"
   ]
  },
  {
   "cell_type": "code",
   "execution_count": 85,
   "metadata": {},
   "outputs": [
    {
     "data": {
      "image/png": "[encoded data removed]",
      "text/plain": [
       "<Figure size 324x288 with 1 Axes>"
      ]
     },
     "metadata": {
      "needs_background": "light"
     },
     "output_type": "display_data"
    }
   ],
   "source": [
    "plt.figure(figsize=(4.5,4))\n",
    "plt.plot(Bs, np.mean(l2es_B,1), label=r'$\\|\\hat{w}-w^*\\|_2^2$')\n",
    "plt.fill_between(Bs, np.mean(l2es_B,1)+2*np.std(l2es_B,1)/np.sqrt(n_iter),\n",
    "                 np.mean(l2es_B,1)-2*np.std(l2es_B,1)/np.sqrt(n_iter), alpha=0.3)\n",
    "plt.plot(Bs, kappa_B/lambdas_2_I_B/np.exp(8), label=r'$\\frac{\\kappa}{\\lambda_2(I(w^*))}$')\n",
    "plt.xlabel(r'$B$'); plt.yscale(\"log\")"
   ]
  },
  {
   "cell_type": "markdown",
   "metadata": {},
   "source": [
    "# $\\ell_2$ error rate with respect to graph topology"
   ]
  },
  {
   "cell_type": "markdown",
   "metadata": {},
   "source": [
    "## parameters"
   ]
  },
  {
   "cell_type": "code",
   "execution_count": 86,
   "metadata": {},
   "outputs": [],
   "source": [
    "d = 100\n",
    "W = np.floor(d/np.sqrt(np.log(d))/4).astype(int)\n",
    "B = np.sqrt(np.log(d))*4\n",
    "T = 5"
   ]
  },
  {
   "cell_type": "code",
   "execution_count": 87,
   "metadata": {},
   "outputs": [],
   "source": [
    "Ws = np.floor(np.exp(np.linspace(-1,1,21))*d/np.sqrt(np.log(d))/4).astype(int)\n",
    "n_iter = 100"
   ]
  },
  {
   "cell_type": "markdown",
   "metadata": {},
   "source": [
    "## simulation"
   ]
  },
  {
   "cell_type": "code",
   "execution_count": 89,
   "metadata": {},
   "outputs": [
    {
     "name": "stdout",
     "output_type": "stream",
     "text": [
      "0-th W: 4.000000\n",
      "1-th W: 4.000000\n",
      "2-th W: 5.000000\n",
      "3-th W: 5.000000\n",
      "4-th W: 6.000000\n",
      "5-th W: 7.000000\n",
      "6-th W: 7.000000\n",
      "7-th W: 8.000000\n",
      "8-th W: 9.000000\n",
      "9-th W: 10.000000\n",
      "10-th W: 11.000000\n",
      "11-th W: 12.000000\n",
      "12-th W: 14.000000\n",
      "13-th W: 15.000000\n",
      "14-th W: 17.000000\n",
      "15-th W: 19.000000\n",
      "16-th W: 21.000000\n",
      "17-th W: 23.000000\n",
      "18-th W: 25.000000\n",
      "19-th W: 28.000000\n",
      "20-th W: 31.000000\n"
     ]
    }
   ],
   "source": [
    "l2es_G = np.zeros((len(Bs), n_iter))\n",
    "for i, W in enumerate(Ws):\n",
    "    print(\"%d-th W: %f\"%(i, W))\n",
    "    \n",
    "    w_star = 2*B*np.arange(d)/d - B\n",
    "    A_matrix = np.logical_and(np.arange(d)[:,None] != np.arange(d),\n",
    "                   np.abs(np.arange(d)[:,None] - np.arange(d)) <= W) * T\n",
    "    \n",
    "    for j in np.arange(n_iter):\n",
    "        _, l2e = simulate(d, w_star, A_matrix)\n",
    "        l2es_G[i,j] = l2e"
   ]
  },
  {
   "cell_type": "markdown",
   "metadata": {},
   "source": [
    "## theoretical values"
   ]
  },
  {
   "cell_type": "code",
   "execution_count": 90,
   "metadata": {},
   "outputs": [],
   "source": [
    "lambdas_2_I_G = np.zeros((len(Ws)))\n",
    "lambdas_2_L_G = np.zeros((len(Ws)))\n",
    "kappa_G = np.zeros((len(Ws)))\n",
    "\n",
    "for i, W in enumerate(Ws):\n",
    "    P_matrix = 1/(1+np.exp(2*B*(np.arange(d) - np.arange(d)[:,None])/d))\n",
    "    A_matrix = np.logical_and(np.arange(d)[:,None] != np.arange(d),\n",
    "                          np.abs(np.arange(d)[:,None] - np.arange(d)) <= W)\n",
    "    L_matrix = (np.diag(np.sum(A_matrix,0)) - A_matrix) #/ np.sum(A_matrix) * 2\n",
    "    B_matrix = P_matrix * (1-P_matrix) * A_matrix\n",
    "    I_matrix = (np.diag(np.sum(B_matrix,0)) - B_matrix) #/ np.sum(A_matrix) * 2\n",
    "    \n",
    "    u, v = la.eigh(L_matrix)\n",
    "    L_isqrt = v @ (np.concatenate([[0], 1/np.sqrt(u[1:])])*v).T\n",
    "\n",
    "    lambdas_2_I_G[i] = la.eigvalsh(I_matrix)[1]\n",
    "    lambdas_2_L_G[i] = la.eigvalsh(L_matrix)[1]\n",
    "    kappa_G[i] = 1/la.eigvalsh(L_isqrt @ I_matrix @ L_isqrt)[-1]"
   ]
  },
  {
   "cell_type": "markdown",
   "metadata": {},
   "source": [
    "## plot"
   ]
  },
  {
   "cell_type": "code",
   "execution_count": 94,
   "metadata": {},
   "outputs": [
    {
     "data": {
      "text/plain": [
       "<matplotlib.legend.Legend at 0x7fa7b6afd6d0>"
      ]
     },
     "execution_count": 94,
     "metadata": {},
     "output_type": "execute_result"
    },
    {
     "data": {
      "image/png": "[encoded data removed]",
      "text/plain": [
       "<Figure size 324x288 with 1 Axes>"
      ]
     },
     "metadata": {
      "needs_background": "light"
     },
     "output_type": "display_data"
    }
   ],
   "source": [
    "plt.figure(figsize=(4.5,4))\n",
    "plt.plot(Ws, np.mean(l2es_G,1), label=r'estimated')\n",
    "plt.fill_between(Ws, np.mean(l2es_G,1) + 2*np.std(l2es_G,1)/np.sqrt(n_iter),\n",
    "                np.mean(l2es_G,1) - 2*np.std(l2es_G,1)/np.sqrt(n_iter), alpha=0.3)\n",
    "plt.plot(Ws, kappa_G/lambdas_2_I_G*np.exp(-0.5), label=r'this work')\n",
    "plt.plot(Ws, 1/lambdas_2_L_G*np.exp(6), label=r'Shah et al. (2016)')\n",
    "plt.xlabel(r'$W$'); plt.yscale(\"log\"); plt.legend()"
   ]
  },
  {
   "cell_type": "code",
   "execution_count": null,
   "metadata": {},
   "outputs": [],
   "source": []
  }
 ],
 "metadata": {
  "kernelspec": {
   "display_name": "Python 3",
   "language": "python",
   "name": "python3"
  },
  "language_info": {
   "codemirror_mode": {
    "name": "ipython",
    "version": 3
   },
   "file_extension": ".py",
   "mimetype": "text/x-python",
   "name": "python",
   "nbconvert_exporter": "python",
   "pygments_lexer": "ipython3",
   "version": "3.7.4"
  }
 },
 "nbformat": 4,
 "nbformat_minor": 4
}
