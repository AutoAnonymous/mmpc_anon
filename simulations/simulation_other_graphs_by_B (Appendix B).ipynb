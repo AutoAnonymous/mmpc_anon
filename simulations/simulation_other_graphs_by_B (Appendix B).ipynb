{
 "cells": [
  {
   "cell_type": "code",
   "execution_count": 5,
   "metadata": {},
   "outputs": [],
   "source": [
    "import numpy as np\n",
    "import scipy.linalg as la\n",
    "import matplotlib.pyplot as plt\n",
    "import choix"
   ]
  },
  {
   "cell_type": "code",
   "execution_count": 6,
   "metadata": {},
   "outputs": [],
   "source": [
    "plt.rcParams.update({\n",
    "    \"text.usetex\": True,\n",
    "    \"font.family\": \"sans-serif\",\n",
    "    \"font.sans-serif\": [\"Helvetica\"],\n",
    "    \"font.size\": 15})\n",
    "# for Palatino and other serif fonts use:\n",
    "# plt.rcParams.update({\n",
    "#     \"text.usetex\": True,\n",
    "#     \"font.family\": \"serif\",\n",
    "#     \"font.serif\": [\"Palatino\"],\n",
    "# })"
   ]
  },
  {
   "cell_type": "code",
   "execution_count": 33,
   "metadata": {},
   "outputs": [],
   "source": [
    "import ladyns as ldn"
   ]
  },
  {
   "cell_type": "markdown",
   "metadata": {},
   "source": [
    "## Simulation Function"
   ]
  },
  {
   "cell_type": "code",
   "execution_count": 8,
   "metadata": {},
   "outputs": [],
   "source": [
    "def simulate(d, w_star, A):\n",
    "    data = []\n",
    "    for i in np.arange(d-1):\n",
    "        for j in np.arange(i+1, d):\n",
    "            p = 1 / (1 + np.exp(w_star[i]-w_star[j])) # the probability that j wins i\n",
    "            for _ in np.arange(A[i,j].astype(int)):\n",
    "                res = np.random.binomial(1, p)\n",
    "                if res < 0.5: # i wins j\n",
    "                    data.append((i, j))\n",
    "                else: # j wins i\n",
    "                    data.append((j, i))\n",
    "    \n",
    "    w_hat = choix.ilsr_pairwise(d, data)\n",
    "    \n",
    "    return w_hat, np.sum((w_star - w_hat)**2)"
   ]
  },
  {
   "cell_type": "markdown",
   "metadata": {},
   "source": [
    "# 1 Complete Graph"
   ]
  },
  {
   "cell_type": "markdown",
   "metadata": {},
   "source": [
    "## parameters"
   ]
  },
  {
   "cell_type": "code",
   "execution_count": 399,
   "metadata": {},
   "outputs": [],
   "source": [
    "d = 100\n",
    "B = 1\n",
    "T = 5"
   ]
  },
  {
   "cell_type": "code",
   "execution_count": 400,
   "metadata": {},
   "outputs": [],
   "source": [
    "Bs = np.exp(np.linspace(-1,0,11))\n",
    "n_iter = 100"
   ]
  },
  {
   "cell_type": "code",
   "execution_count": 401,
   "metadata": {},
   "outputs": [],
   "source": [
    "A_matrix = (np.arange(d)[:,None] != np.arange(d)) * T\n",
    "L_matrix = (np.diag(np.sum(A_matrix,0)) - A_matrix) / np.sum(A_matrix) * 2"
   ]
  },
  {
   "cell_type": "code",
   "execution_count": 402,
   "metadata": {},
   "outputs": [
    {
     "data": {
      "image/png": "[encoded data removed]",
      "text/plain": [
       "<Figure size 432x288 with 1 Axes>"
      ]
     },
     "metadata": {
      "needs_background": "light"
     },
     "output_type": "display_data"
    }
   ],
   "source": [
    "ldn.imshow(A_matrix)"
   ]
  },
  {
   "cell_type": "code",
   "execution_count": 403,
   "metadata": {},
   "outputs": [],
   "source": [
    "u, v = la.eigh(L_matrix)\n",
    "L_isqrt = v @ (np.concatenate([[0], 1/np.sqrt(u[1:])])*v).T"
   ]
  },
  {
   "cell_type": "markdown",
   "metadata": {},
   "source": [
    "## 1.1 Gaussian Distributed Score"
   ]
  },
  {
   "cell_type": "markdown",
   "metadata": {},
   "source": [
    "## simulation"
   ]
  },
  {
   "cell_type": "code",
   "execution_count": 404,
   "metadata": {
    "scrolled": true
   },
   "outputs": [
    {
     "name": "stdout",
     "output_type": "stream",
     "text": [
      "0-th B: 0.367879\n",
      "1-th B: 0.406570\n",
      "2-th B: 0.449329\n",
      "3-th B: 0.496585\n",
      "4-th B: 0.548812\n",
      "5-th B: 0.606531\n",
      "6-th B: 0.670320\n",
      "7-th B: 0.740818\n",
      "8-th B: 0.818731\n",
      "9-th B: 0.904837\n",
      "10-th B: 1.000000\n"
     ]
    }
   ],
   "source": [
    "l2es_B = np.zeros((len(Bs), n_iter))\n",
    "lambdas_2_I_B = np.zeros((len(Bs), n_iter))\n",
    "kappa_B = np.zeros((len(Bs), n_iter))\n",
    "for i, B in enumerate(Bs):\n",
    "    print(\"%d-th B: %f\"%(i, B))\n",
    "    \n",
    "    for j in np.arange(n_iter):\n",
    "        w_star = B*np.random.normal(size=d)\n",
    "        _, l2e = simulate(d, w_star, A_matrix)\n",
    "        l2es_B[i,j] = l2e\n",
    "        \n",
    "        P_matrix = 1/(1+np.exp(w_star - w_star[:,None]))\n",
    "        B_matrix = P_matrix * (1-P_matrix) * A_matrix\n",
    "        I_matrix = (np.diag(np.sum(B_matrix,0)) - B_matrix) / np.sum(A_matrix) * 2\n",
    "\n",
    "        lambdas_2_I_B[i,j] = la.eigvalsh(I_matrix)[1]\n",
    "        kappa_B[i,j] = 1/la.eigvalsh(L_isqrt @ I_matrix @ L_isqrt)[-1]"
   ]
  },
  {
   "cell_type": "markdown",
   "metadata": {},
   "source": [
    "## plots"
   ]
  },
  {
   "cell_type": "code",
   "execution_count": 407,
   "metadata": {
    "scrolled": true
   },
   "outputs": [
    {
     "data": {
      "image/png": "[encoded data removed]",
      "text/plain": [
       "<Figure size 324x288 with 1 Axes>"
      ]
     },
     "metadata": {
      "needs_background": "light"
     },
     "output_type": "display_data"
    }
   ],
   "source": [
    "plt.figure(figsize=(4.5,4))\n",
    "# plt.plot(Bs, np.mean(l2es_B,1), label='estimated')\n",
    "# plt.fill_between(Bs, np.mean(l2es_B,1)+2*np.std(l2es_B,1)/np.sqrt(n_iter),\n",
    "#                  np.mean(l2es_B,1)-2*np.std(l2es_B,1)/np.sqrt(n_iter), alpha=0.3)\n",
    "plt.plot(Bs, np.quantile(l2es_B,0.95,axis=1), label='estimated')\n",
    "# plt.plot(Bs, kappa_B/lambdas_2_I_B/np.exp(9.5))\n",
    "plt.plot(Bs, np.quantile(kappa_B/lambdas_2_I_B,0.95,axis=1)/np.exp(6), label='this work')\n",
    "plt.plot(Bs, np.exp(8*Bs-1.5), label='Shah et al. (2016)')\n",
    "plt.xlabel(r'$B$'); plt.yscale(\"log\"); # plt.legend()"
   ]
  },
  {
   "cell_type": "markdown",
   "metadata": {},
   "source": [
    "# 2 Star Graph"
   ]
  },
  {
   "cell_type": "markdown",
   "metadata": {},
   "source": [
    "## parameters"
   ]
  },
  {
   "cell_type": "code",
   "execution_count": 386,
   "metadata": {},
   "outputs": [],
   "source": [
    "d = 20\n",
    "B = 1\n",
    "T = 200"
   ]
  },
  {
   "cell_type": "code",
   "execution_count": 387,
   "metadata": {},
   "outputs": [],
   "source": [
    "Bs = np.exp(np.linspace(-1,0,11))\n",
    "n_iter = 100"
   ]
  },
  {
   "cell_type": "code",
   "execution_count": 388,
   "metadata": {},
   "outputs": [],
   "source": [
    "A_matrix = np.logical_and(np.arange(d)[:,None] != np.arange(d),\n",
    "            np.logical_or(np.arange(d)[:,None] * np.ones(d) == 0,\n",
    "                          np.ones(d)[:,None] * np.arange(d) == 0))* T\n",
    "L_matrix = (np.diag(np.sum(A_matrix,0)) - A_matrix) / np.sum(A_matrix) * 2"
   ]
  },
  {
   "cell_type": "code",
   "execution_count": 389,
   "metadata": {},
   "outputs": [
    {
     "data": {
      "image/png": "[encoded data removed]",
      "text/plain": [
       "<Figure size 432x288 with 1 Axes>"
      ]
     },
     "metadata": {
      "needs_background": "light"
     },
     "output_type": "display_data"
    }
   ],
   "source": [
    "ldn.imshow(A_matrix)"
   ]
  },
  {
   "cell_type": "code",
   "execution_count": 390,
   "metadata": {},
   "outputs": [],
   "source": [
    "u, v = la.eigh(L_matrix)\n",
    "L_isqrt = v @ (np.concatenate([[0], 1/np.sqrt(u[1:])])*v).T"
   ]
  },
  {
   "cell_type": "markdown",
   "metadata": {},
   "source": [
    "## 2.1 The Second Eigenvector Score"
   ]
  },
  {
   "cell_type": "code",
   "execution_count": 361,
   "metadata": {},
   "outputs": [
    {
     "data": {
      "text/plain": [
       "[<matplotlib.lines.Line2D at 0x7f8f634d7e10>]"
      ]
     },
     "execution_count": 361,
     "metadata": {},
     "output_type": "execute_result"
    },
    {
     "data": {
      "image/png": "[encoded data removed]",
      "text/plain": [
       "<Figure size 432x288 with 1 Axes>"
      ]
     },
     "metadata": {
      "needs_background": "light"
     },
     "output_type": "display_data"
    }
   ],
   "source": [
    "plt.plot(v[:,1])"
   ]
  },
  {
   "cell_type": "markdown",
   "metadata": {},
   "source": [
    "## simulations"
   ]
  },
  {
   "cell_type": "code",
   "execution_count": 319,
   "metadata": {},
   "outputs": [
    {
     "name": "stdout",
     "output_type": "stream",
     "text": [
      "0-th B: 0.367879\n",
      "1-th B: 0.406570\n",
      "2-th B: 0.449329\n",
      "3-th B: 0.496585\n",
      "4-th B: 0.548812\n",
      "5-th B: 0.606531\n",
      "6-th B: 0.670320\n",
      "7-th B: 0.740818\n",
      "8-th B: 0.818731\n",
      "9-th B: 0.904837\n",
      "10-th B: 1.000000\n"
     ]
    }
   ],
   "source": [
    "l2es_B = np.zeros((len(Bs), n_iter))\n",
    "lambdas_2_I_B = np.zeros(len(Bs))\n",
    "kappa_B = np.zeros(len(Bs))\n",
    "for i, B in enumerate(Bs):\n",
    "    print(\"%d-th B: %f\"%(i, B))\n",
    "    w_star = B * v[:,1] / np.max(v[:,1])\n",
    "    P_matrix = 1/(1+np.exp(w_star - w_star[:,None]))\n",
    "    B_matrix = P_matrix * (1-P_matrix) * A_matrix\n",
    "    I_matrix = (np.diag(np.sum(B_matrix,0)) - B_matrix) / np.sum(A_matrix) * 2\n",
    "        \n",
    "    lambdas_2_I_B[i] = la.eigvalsh(I_matrix)[1]\n",
    "    kappa_B[i] = 1/la.eigvalsh(L_isqrt @ I_matrix @ L_isqrt)[-1]\n",
    "    \n",
    "    for j in np.arange(n_iter):\n",
    "        _, l2e = simulate(d, w_star, A_matrix)\n",
    "        l2es_B[i,j] = l2e"
   ]
  },
  {
   "cell_type": "markdown",
   "metadata": {},
   "source": [
    "## plots"
   ]
  },
  {
   "cell_type": "code",
   "execution_count": 322,
   "metadata": {
    "scrolled": true
   },
   "outputs": [
    {
     "data": {
      "image/png": "[encoded data removed]",
      "text/plain": [
       "<Figure size 324x288 with 1 Axes>"
      ]
     },
     "metadata": {
      "needs_background": "light"
     },
     "output_type": "display_data"
    }
   ],
   "source": [
    "plt.figure(figsize=(4.5,4))\n",
    "plt.plot(Bs, np.mean(l2es_B,1), label='estimated')\n",
    "plt.fill_between(Bs, np.mean(l2es_B,1)+2*np.std(l2es_B,1)/np.sqrt(n_iter),\n",
    "                 np.mean(l2es_B,1)-2*np.std(l2es_B,1)/np.sqrt(n_iter), alpha=0.3)\n",
    "plt.plot(Bs, kappa_B/lambdas_2_I_B/np.exp(6.5), label='this work')\n",
    "plt.plot(Bs, np.exp(8*Bs-3.5), label='Shah et al. (2016)')\n",
    "plt.xlabel(r'$B$'); plt.yscale(\"log\"); # plt.legend()"
   ]
  },
  {
   "cell_type": "markdown",
   "metadata": {},
   "source": [
    "## 2.2 Gaussian Distributed Score"
   ]
  },
  {
   "cell_type": "markdown",
   "metadata": {},
   "source": [
    "## simulation"
   ]
  },
  {
   "cell_type": "code",
   "execution_count": 391,
   "metadata": {
    "scrolled": true
   },
   "outputs": [
    {
     "name": "stdout",
     "output_type": "stream",
     "text": [
      "0-th B: 0.367879\n",
      "1-th B: 0.406570\n",
      "2-th B: 0.449329\n",
      "3-th B: 0.496585\n",
      "4-th B: 0.548812\n",
      "5-th B: 0.606531\n",
      "6-th B: 0.670320\n",
      "7-th B: 0.740818\n",
      "8-th B: 0.818731\n",
      "9-th B: 0.904837\n",
      "10-th B: 1.000000\n"
     ]
    }
   ],
   "source": [
    "l2es_B = np.zeros((len(Bs), n_iter))\n",
    "lambdas_2_I_B = np.zeros((len(Bs), n_iter))\n",
    "kappa_B = np.zeros((len(Bs), n_iter))\n",
    "for i, B in enumerate(Bs):\n",
    "    print(\"%d-th B: %f\"%(i, B))\n",
    "    \n",
    "    for j in np.arange(n_iter):\n",
    "        w_star = B*np.random.normal(size=d)\n",
    "        _, l2e = simulate(d, w_star, A_matrix)\n",
    "        l2es_B[i,j] = l2e\n",
    "        \n",
    "        P_matrix = 1/(1+np.exp(w_star - w_star[:,None]))\n",
    "        B_matrix = P_matrix * (1-P_matrix) * A_matrix\n",
    "        I_matrix = (np.diag(np.sum(B_matrix,0)) - B_matrix) / np.sum(A_matrix) * 2\n",
    "\n",
    "        lambdas_2_I_B[i,j] = la.eigvalsh(I_matrix)[1]\n",
    "        kappa_B[i,j] = 1/la.eigvalsh(L_isqrt @ I_matrix @ L_isqrt)[-1]"
   ]
  },
  {
   "cell_type": "markdown",
   "metadata": {},
   "source": [
    "## plots"
   ]
  },
  {
   "cell_type": "code",
   "execution_count": 398,
   "metadata": {},
   "outputs": [
    {
     "data": {
      "image/png": "[encoded data removed]",
      "text/plain": [
       "<Figure size 324x288 with 1 Axes>"
      ]
     },
     "metadata": {
      "needs_background": "light"
     },
     "output_type": "display_data"
    }
   ],
   "source": [
    "plt.figure(figsize=(4.5,4))\n",
    "# plt.plot(Bs, np.mean(l2es_B,1), label='estimated')\n",
    "# plt.fill_between(Bs, np.mean(l2es_B,1)+2*np.std(l2es_B,1)/np.sqrt(n_iter),\n",
    "#                  np.mean(l2es_B,1)-2*np.std(l2es_B,1)/np.sqrt(n_iter), alpha=0.3)\n",
    "plt.plot(Bs, np.quantile(l2es_B,0.95,axis=1), label='estimated')\n",
    "# plt.plot(Bs, kappa_B/lambdas_2_I_B/np.exp(9.5))\n",
    "plt.plot(Bs, np.quantile(kappa_B/lambdas_2_I_B,0.95,axis=1)/np.exp(6), label='this work')\n",
    "plt.plot(Bs, np.exp(8*Bs-2.5), label='Shah et al. (2016)')\n",
    "plt.xlabel(r'$B$'); plt.yscale(\"log\"); # plt.legend()"
   ]
  },
  {
   "cell_type": "markdown",
   "metadata": {},
   "source": [
    "# 3 Barbell Graph"
   ]
  },
  {
   "cell_type": "markdown",
   "metadata": {},
   "source": [
    "## parameters"
   ]
  },
  {
   "cell_type": "code",
   "execution_count": 362,
   "metadata": {},
   "outputs": [],
   "source": [
    "d = 20\n",
    "B = 1\n",
    "T = 100"
   ]
  },
  {
   "cell_type": "code",
   "execution_count": 363,
   "metadata": {},
   "outputs": [],
   "source": [
    "Bs = np.exp(np.linspace(-1,0,11))\n",
    "n_iter = 100"
   ]
  },
  {
   "cell_type": "code",
   "execution_count": 364,
   "metadata": {},
   "outputs": [
    {
     "data": {
      "text/plain": [
       "array([0.34598554, 0.33099279, 0.31481433, 0.29744404, 0.27890629,\n",
       "       0.25926458, 0.23863054, 0.21717226, 0.19512066, 0.17277176,\n",
       "       0.15048293])"
      ]
     },
     "execution_count": 364,
     "metadata": {},
     "output_type": "execute_result"
    }
   ],
   "source": [
    "1/(1+np.exp(Bs * np.sqrt(np.log(d))))"
   ]
  },
  {
   "cell_type": "code",
   "execution_count": 365,
   "metadata": {},
   "outputs": [],
   "source": [
    "A_matrix = np.logical_and(np.arange(d)[:,None] != np.arange(d),\n",
    "                (np.maximum(np.arange(d)[:,None] * np.ones(d),\n",
    "                            np.ones(d)[:,None] * np.arange(d)) < d/2) +\n",
    "                (np.minimum(np.arange(d)[:,None] * np.ones(d),\n",
    "                            np.ones(d)[:,None] * np.arange(d)) >= d/2) +\n",
    "                (np.abs(np.arange(d)[:,None] - np.arange(d)) < 2))* T\n",
    "L_matrix = (np.diag(np.sum(A_matrix,0)) - A_matrix) / np.sum(A_matrix) * 2"
   ]
  },
  {
   "cell_type": "code",
   "execution_count": 366,
   "metadata": {},
   "outputs": [
    {
     "data": {
      "image/png": "[encoded data removed]",
      "text/plain": [
       "<Figure size 432x288 with 1 Axes>"
      ]
     },
     "metadata": {
      "needs_background": "light"
     },
     "output_type": "display_data"
    }
   ],
   "source": [
    "ldn.imshow(A_matrix)"
   ]
  },
  {
   "cell_type": "code",
   "execution_count": 367,
   "metadata": {},
   "outputs": [],
   "source": [
    "u, v = la.eigh(L_matrix)\n",
    "L_isqrt = v @ (np.concatenate([[0], 1/np.sqrt(u[1:])])*v).T"
   ]
  },
  {
   "cell_type": "markdown",
   "metadata": {},
   "source": [
    "## 3.1 The Second Eigenvector Score"
   ]
  },
  {
   "cell_type": "code",
   "execution_count": 368,
   "metadata": {},
   "outputs": [
    {
     "data": {
      "text/plain": [
       "[<matplotlib.lines.Line2D at 0x7f8f638f6710>]"
      ]
     },
     "execution_count": 368,
     "metadata": {},
     "output_type": "execute_result"
    },
    {
     "data": {
      "image/png": "[encoded data removed]",
      "text/plain": [
       "<Figure size 432x288 with 1 Axes>"
      ]
     },
     "metadata": {
      "needs_background": "light"
     },
     "output_type": "display_data"
    }
   ],
   "source": [
    "plt.plot(v[:,1])"
   ]
  },
  {
   "cell_type": "markdown",
   "metadata": {},
   "source": [
    "## simulations"
   ]
  },
  {
   "cell_type": "code",
   "execution_count": 287,
   "metadata": {},
   "outputs": [
    {
     "name": "stdout",
     "output_type": "stream",
     "text": [
      "0-th B: 0.367879\n",
      "1-th B: 0.406570\n",
      "2-th B: 0.449329\n",
      "3-th B: 0.496585\n",
      "4-th B: 0.548812\n",
      "5-th B: 0.606531\n",
      "6-th B: 0.670320\n",
      "7-th B: 0.740818\n",
      "8-th B: 0.818731\n",
      "9-th B: 0.904837\n",
      "10-th B: 1.000000\n"
     ]
    }
   ],
   "source": [
    "l2es_B = np.zeros((len(Bs), n_iter))\n",
    "lambdas_2_I_B = np.zeros(len(Bs))\n",
    "kappa_B = np.zeros(len(Bs))\n",
    "for i, B in enumerate(Bs):\n",
    "    print(\"%d-th B: %f\"%(i, B))\n",
    "    w_star = B * v[:,1] / np.max(v[:,1])\n",
    "    P_matrix = 1/(1+np.exp(w_star - w_star[:,None]))\n",
    "    B_matrix = P_matrix * (1-P_matrix) * A_matrix\n",
    "    I_matrix = (np.diag(np.sum(B_matrix,0)) - B_matrix) / np.sum(A_matrix) * 2\n",
    "        \n",
    "    lambdas_2_I_B[i] = la.eigvalsh(I_matrix)[1]\n",
    "    kappa_B[i] = 1/la.eigvalsh(L_isqrt @ I_matrix @ L_isqrt)[-1]\n",
    "    \n",
    "    for j in np.arange(n_iter):\n",
    "        _, l2e = simulate(d, w_star, A_matrix)\n",
    "        l2es_B[i,j] = l2e"
   ]
  },
  {
   "cell_type": "markdown",
   "metadata": {},
   "source": [
    "## plots"
   ]
  },
  {
   "cell_type": "code",
   "execution_count": 303,
   "metadata": {
    "scrolled": true
   },
   "outputs": [
    {
     "data": {
      "image/png": "[encoded data removed]",
      "text/plain": [
       "<Figure size 324x288 with 1 Axes>"
      ]
     },
     "metadata": {
      "needs_background": "light"
     },
     "output_type": "display_data"
    }
   ],
   "source": [
    "plt.figure(figsize=(4.5,4))\n",
    "plt.plot(Bs, np.mean(l2es_B,1), label='estimated')\n",
    "plt.fill_between(Bs, np.mean(l2es_B,1)+2*np.std(l2es_B,1)/np.sqrt(n_iter),\n",
    "                 np.mean(l2es_B,1)-2*np.std(l2es_B,1)/np.sqrt(n_iter), alpha=0.3)\n",
    "plt.plot(Bs, kappa_B/lambdas_2_I_B/np.exp(9.5), label='this work')\n",
    "plt.plot(Bs, np.exp(8*Bs-2.5), label='Shah et al. (2016)')\n",
    "plt.xlabel(r'$B$'); plt.yscale(\"log\"); # plt.legend()"
   ]
  },
  {
   "cell_type": "markdown",
   "metadata": {},
   "source": [
    "## 3.2 Gaussian Distributed Score"
   ]
  },
  {
   "cell_type": "markdown",
   "metadata": {},
   "source": [
    "## simulation"
   ]
  },
  {
   "cell_type": "code",
   "execution_count": 376,
   "metadata": {
    "scrolled": true
   },
   "outputs": [
    {
     "name": "stdout",
     "output_type": "stream",
     "text": [
      "0-th B: 0.367879\n",
      "1-th B: 0.406570\n",
      "2-th B: 0.449329\n",
      "3-th B: 0.496585\n",
      "4-th B: 0.548812\n",
      "5-th B: 0.606531\n",
      "6-th B: 0.670320\n",
      "7-th B: 0.740818\n",
      "8-th B: 0.818731\n",
      "9-th B: 0.904837\n",
      "10-th B: 1.000000\n"
     ]
    }
   ],
   "source": [
    "l2es_B = np.zeros((len(Bs), n_iter))\n",
    "lambdas_2_I_B = np.zeros((len(Bs), n_iter))\n",
    "kappa_B = np.zeros((len(Bs), n_iter))\n",
    "for i, B in enumerate(Bs):\n",
    "    print(\"%d-th B: %f\"%(i, B))\n",
    "    \n",
    "    for j in np.arange(n_iter):\n",
    "        w_star = B * np.random.normal(size=d)\n",
    "\n",
    "        _, l2e = simulate(d, w_star, A_matrix)\n",
    "        l2es_B[i,j] = l2e\n",
    "        \n",
    "        P_matrix = 1/(1+np.exp(w_star - w_star[:,None]))\n",
    "        B_matrix = P_matrix * (1-P_matrix) * A_matrix\n",
    "        I_matrix = (np.diag(np.sum(B_matrix,0)) - B_matrix) / np.sum(A_matrix) * 2\n",
    "\n",
    "        lambdas_2_I_B[i,j] = la.eigvalsh(I_matrix)[1]\n",
    "        kappa_B[i,j] = 1/la.eigvalsh(L_isqrt @ I_matrix @ L_isqrt)[-1]"
   ]
  },
  {
   "cell_type": "markdown",
   "metadata": {},
   "source": [
    "## plots"
   ]
  },
  {
   "cell_type": "code",
   "execution_count": 385,
   "metadata": {},
   "outputs": [
    {
     "data": {
      "text/plain": [
       "<matplotlib.legend.Legend at 0x7f8f61f8d150>"
      ]
     },
     "execution_count": 385,
     "metadata": {},
     "output_type": "execute_result"
    },
    {
     "name": "stderr",
     "output_type": "stream",
     "text": [
      "findfont: Font family ['sans-serif'] not found. Falling back to DejaVu Sans.\n"
     ]
    },
    {
     "data": {
      "image/png": "[encoded data removed]",
      "text/plain": [
       "<Figure size 324x288 with 1 Axes>"
      ]
     },
     "metadata": {
      "needs_background": "light"
     },
     "output_type": "display_data"
    }
   ],
   "source": [
    "plt.figure(figsize=(4.5,4))\n",
    "# plt.plot(Bs, np.mean(l2es_B,1), label='estimated')\n",
    "# plt.fill_between(Bs, np.mean(l2es_B,1)+2*np.std(l2es_B,1)/np.sqrt(n_iter),\n",
    "#                  np.mean(l2es_B,1)-2*np.std(l2es_B,1)/np.sqrt(n_iter), alpha=0.3)\n",
    "plt.plot(Bs, np.quantile(l2es_B,0.95,axis=1), label='estimated')\n",
    "# plt.plot(Bs, kappa_B/lambdas_2_I_B/np.exp(9.5))\n",
    "plt.plot(Bs, np.quantile(kappa_B/lambdas_2_I_B,0.95,axis=1)/np.exp(8.5), label='this work')\n",
    "plt.plot(Bs, np.exp(8*Bs-2), label='Shah et al. (2016)')\n",
    "plt.xlabel(r'$B$'); plt.yscale(\"log\"); plt.legend()"
   ]
  },
  {
   "cell_type": "code",
   "execution_count": null,
   "metadata": {},
   "outputs": [],
   "source": []
  }
 ],
 "metadata": {
  "kernelspec": {
   "display_name": "Python 3",
   "language": "python",
   "name": "python3"
  },
  "language_info": {
   "codemirror_mode": {
    "name": "ipython",
    "version": 3
   },
   "file_extension": ".py",
   "mimetype": "text/x-python",
   "name": "python",
   "nbconvert_exporter": "python",
   "pygments_lexer": "ipython3",
   "version": "3.7.4"
  }
 },
 "nbformat": 4,
 "nbformat_minor": 4
}
