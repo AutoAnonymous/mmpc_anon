{
 "cells": [
  {
   "cell_type": "code",
   "execution_count": 1,
   "metadata": {},
   "outputs": [],
   "source": [
    "import numpy as np\n",
    "import scipy.linalg as la\n",
    "import matplotlib.pyplot as plt\n",
    "import choix"
   ]
  },
  {
   "cell_type": "code",
   "execution_count": 2,
   "metadata": {},
   "outputs": [],
   "source": [
    "plt.rcParams.update({\n",
    "    \"text.usetex\": True,\n",
    "    \"font.family\": \"sans-serif\",\n",
    "    \"font.sans-serif\": [\"Helvetica\"],\n",
    "    \"font.size\": 15})\n",
    "# for Palatino and other serif fonts use:\n",
    "# plt.rcParams.update({\n",
    "#     \"text.usetex\": True,\n",
    "#     \"font.family\": \"serif\",\n",
    "#     \"font.serif\": [\"Palatino\"],\n",
    "# })"
   ]
  },
  {
   "cell_type": "code",
   "execution_count": 3,
   "metadata": {},
   "outputs": [],
   "source": [
    "import ladyns as ldn"
   ]
  },
  {
   "cell_type": "markdown",
   "metadata": {},
   "source": [
    "## Simulation Function"
   ]
  },
  {
   "cell_type": "code",
   "execution_count": 4,
   "metadata": {},
   "outputs": [],
   "source": [
    "def simulate(d, w_star, A):\n",
    "    data = []\n",
    "    for i in np.arange(d-1):\n",
    "        for j in np.arange(i+1, d):\n",
    "            p = 1 / (1 + np.exp(w_star[i]-w_star[j])) # the probability that j wins i\n",
    "            for _ in np.arange(A[i,j].astype(int)):\n",
    "                res = np.random.binomial(1, p)\n",
    "                if res < 0.5: # i wins j\n",
    "                    data.append((i, j))\n",
    "                else: # j wins i\n",
    "                    data.append((j, i))\n",
    "    \n",
    "    w_hat = choix.ilsr_pairwise(d, data)\n",
    "    \n",
    "    return w_hat, np.sum((w_star - w_hat)**2)"
   ]
  },
  {
   "cell_type": "markdown",
   "metadata": {},
   "source": [
    "# 1 Complete Graph"
   ]
  },
  {
   "cell_type": "markdown",
   "metadata": {},
   "source": [
    "## parameters"
   ]
  },
  {
   "cell_type": "code",
   "execution_count": 132,
   "metadata": {},
   "outputs": [],
   "source": [
    "d = 100\n",
    "B = 1\n",
    "T = 20"
   ]
  },
  {
   "cell_type": "code",
   "execution_count": 133,
   "metadata": {},
   "outputs": [],
   "source": [
    "ds = (np.exp(np.linspace(-1,0,11))*d).astype(int)\n",
    "n_iter = 100"
   ]
  },
  {
   "cell_type": "markdown",
   "metadata": {},
   "source": [
    "## 1.1 Gaussian Distributed Score"
   ]
  },
  {
   "cell_type": "markdown",
   "metadata": {},
   "source": [
    "## simulation"
   ]
  },
  {
   "cell_type": "code",
   "execution_count": 135,
   "metadata": {
    "scrolled": true
   },
   "outputs": [
    {
     "name": "stdout",
     "output_type": "stream",
     "text": [
      "0-th d: 36\n",
      "1-th d: 40\n",
      "2-th d: 44\n",
      "3-th d: 49\n",
      "4-th d: 54\n",
      "5-th d: 60\n",
      "6-th d: 67\n",
      "7-th d: 74\n",
      "8-th d: 81\n",
      "9-th d: 90\n",
      "10-th d: 100\n"
     ]
    }
   ],
   "source": [
    "l2es = np.zeros((len(ds), n_iter))\n",
    "lambdas_2_I = np.zeros((len(ds), n_iter))\n",
    "lambdas_2_L = np.zeros((len(ds)))\n",
    "kappa = np.zeros((len(ds), n_iter))\n",
    "for i, d in enumerate(ds):\n",
    "    print(\"%d-th d: %d\"%(i, d))\n",
    "    \n",
    "    A_matrix = (np.arange(d)[:,None] != np.arange(d)) * T\n",
    "    L_matrix = (np.diag(np.sum(A_matrix,0)) - A_matrix) # / np.sum(A_matrix) * 2\n",
    "    u, v = la.eigh(L_matrix)\n",
    "    L_isqrt = v @ (np.concatenate([[0], 1/np.sqrt(u[1:])])*v).T\n",
    "    lambdas_2_L[i] = la.eigvalsh(L_matrix)[1]\n",
    "\n",
    "    for j in np.arange(n_iter):\n",
    "        w_star = np.random.normal(size=d)\n",
    "        w_star = w_star - np.mean(w_star)\n",
    "        w_star = w_star / np.max(np.abs(w_star))\n",
    "        \n",
    "        _, l2e = simulate(d, w_star, A_matrix)\n",
    "        l2es[i,j] = l2e\n",
    "        \n",
    "        P_matrix = 1/(1+np.exp(w_star - w_star[:,None]))\n",
    "        B_matrix = P_matrix * (1-P_matrix) * A_matrix\n",
    "        I_matrix = (np.diag(np.sum(B_matrix,0)) - B_matrix) # / np.sum(A_matrix) * 2\n",
    "\n",
    "        lambdas_2_I[i,j] = la.eigvalsh(I_matrix)[1]\n",
    "        kappa[i,j] = 1/la.eigvalsh(L_isqrt @ I_matrix @ L_isqrt)[-1]"
   ]
  },
  {
   "cell_type": "markdown",
   "metadata": {},
   "source": [
    "## plots"
   ]
  },
  {
   "cell_type": "code",
   "execution_count": 137,
   "metadata": {},
   "outputs": [
    {
     "data": {
      "image/png": "[encoded data removed]",
      "text/plain": [
       "<Figure size 324x288 with 1 Axes>"
      ]
     },
     "metadata": {
      "needs_background": "light"
     },
     "output_type": "display_data"
    }
   ],
   "source": [
    "plt.figure(figsize=(4.5,4))\n",
    "plt.plot(ds, np.quantile(l2es,0.95,axis=1), label=r'estimated')\n",
    "# plt.plot(ds, np.mean(l2es,1))\n",
    "# plt.fill_between(ds, np.mean(l2es,1) + 2*np.std(l2es,1)/np.sqrt(n_iter),\n",
    "#                  np.mean(l2es,1) - 2*np.std(l2es,1)/np.sqrt(n_iter), alpha=0.3)\n",
    "plt.plot(ds, ds*np.quantile(kappa/lambdas_2_I*np.exp(-1.3), 0.95, axis=1), label=r'this work')\n",
    "plt.plot(ds, ds/lambdas_2_L*np.exp(2), label=r'Shah et al. (2016)')\n",
    "plt.xlabel(r'$d$'); plt.yscale(\"log\"); # plt.legend(loc='upper right')"
   ]
  },
  {
   "cell_type": "markdown",
   "metadata": {},
   "source": [
    "# 2 Star Graph"
   ]
  },
  {
   "cell_type": "markdown",
   "metadata": {},
   "source": [
    "## parameters"
   ]
  },
  {
   "cell_type": "code",
   "execution_count": 117,
   "metadata": {},
   "outputs": [],
   "source": [
    "d = 20\n",
    "B = 1\n",
    "T = 200"
   ]
  },
  {
   "cell_type": "code",
   "execution_count": 118,
   "metadata": {},
   "outputs": [],
   "source": [
    "ds = (np.exp(np.linspace(-1,0,11))*d).astype(int)\n",
    "n_iter = 100"
   ]
  },
  {
   "cell_type": "code",
   "execution_count": 119,
   "metadata": {},
   "outputs": [
    {
     "data": {
      "text/plain": [
       "array([ 7,  8,  8,  9, 10, 12, 13, 14, 16, 18, 20])"
      ]
     },
     "execution_count": 119,
     "metadata": {},
     "output_type": "execute_result"
    }
   ],
   "source": [
    "ds"
   ]
  },
  {
   "cell_type": "markdown",
   "metadata": {},
   "source": [
    "## 2.1 Gaussian Distributed Score"
   ]
  },
  {
   "cell_type": "markdown",
   "metadata": {},
   "source": [
    "## simulation"
   ]
  },
  {
   "cell_type": "code",
   "execution_count": 120,
   "metadata": {},
   "outputs": [
    {
     "name": "stdout",
     "output_type": "stream",
     "text": [
      "0-th d: 7\n",
      "1-th d: 8\n",
      "2-th d: 8\n",
      "3-th d: 9\n",
      "4-th d: 10\n",
      "5-th d: 12\n",
      "6-th d: 13\n",
      "7-th d: 14\n",
      "8-th d: 16\n",
      "9-th d: 18\n",
      "10-th d: 20\n"
     ]
    }
   ],
   "source": [
    "l2es = np.zeros((len(ds), n_iter))\n",
    "lambdas_2_I = np.zeros((len(ds), n_iter))\n",
    "lambdas_2_L = np.zeros((len(ds)))\n",
    "kappa = np.zeros((len(ds), n_iter))\n",
    "for i, d in enumerate(ds):\n",
    "    print(\"%d-th d: %d\"%(i, d))\n",
    "    \n",
    "    A_matrix = np.logical_and(np.arange(d)[:,None] != np.arange(d),\n",
    "                (np.maximum(np.arange(d)[:,None] * np.ones(d),\n",
    "                            np.ones(d)[:,None] * np.arange(d)) < d/2) +\n",
    "                (np.minimum(np.arange(d)[:,None] * np.ones(d),\n",
    "                            np.ones(d)[:,None] * np.arange(d)) >= d/2) +\n",
    "                (np.abs(np.arange(d)[:,None] - np.arange(d)) < 2))* T\n",
    "    L_matrix = (np.diag(np.sum(A_matrix,0)) - A_matrix) # / np.sum(A_matrix) * 2\n",
    "    u, v = la.eigh(L_matrix)\n",
    "    L_isqrt = v @ (np.concatenate([[0], 1/np.sqrt(u[1:])])*v).T\n",
    "    lambdas_2_L[i] = la.eigvalsh(L_matrix)[1]\n",
    "\n",
    "    for j in np.arange(n_iter):\n",
    "        w_star = np.random.normal(size=d)\n",
    "        w_star = w_star - np.mean(w_star)\n",
    "        w_star = w_star / np.max(np.abs(w_star))\n",
    "        \n",
    "        _, l2e = simulate(d, w_star, A_matrix)\n",
    "        l2es[i,j] = l2e\n",
    "        \n",
    "        P_matrix = 1/(1+np.exp(w_star - w_star[:,None]))\n",
    "        B_matrix = P_matrix * (1-P_matrix) * A_matrix\n",
    "        I_matrix = (np.diag(np.sum(B_matrix,0)) - B_matrix) # / np.sum(A_matrix) * 2\n",
    "\n",
    "        lambdas_2_I[i,j] = la.eigvalsh(I_matrix)[1]\n",
    "        kappa[i,j] = 1/la.eigvalsh(L_isqrt @ I_matrix @ L_isqrt)[-1]"
   ]
  },
  {
   "cell_type": "markdown",
   "metadata": {},
   "source": [
    "## plots"
   ]
  },
  {
   "cell_type": "code",
   "execution_count": 121,
   "metadata": {},
   "outputs": [
    {
     "data": {
      "image/png": "[encoded data removed]",
      "text/plain": [
       "<Figure size 324x288 with 1 Axes>"
      ]
     },
     "metadata": {
      "needs_background": "light"
     },
     "output_type": "display_data"
    }
   ],
   "source": [
    "plt.figure(figsize=(4.5,4))\n",
    "plt.plot(ds, np.quantile(l2es,0.95,axis=1), label=r'estimated')\n",
    "# plt.fill_between(Ws, np.mean(l2es,1) + 2*np.std(l2es,1)/np.sqrt(n_iter),\n",
    "#                 np.mean(l2es,1) - 2*np.std(l2es,1)/np.sqrt(n_iter), alpha=0.3)\n",
    "plt.plot(ds, ds*np.quantile(kappa/lambdas_2_I*np.exp(-1.8), 0.95, axis=1), label=r'this work')\n",
    "plt.plot(ds, ds/lambdas_2_L*np.exp(2), label=r'Shah et al. (2016)')\n",
    "plt.xlabel(r'$d$'); plt.yscale(\"log\"); # plt.legend(loc='upper right')"
   ]
  },
  {
   "cell_type": "markdown",
   "metadata": {},
   "source": [
    "# 3 Barbell Graph"
   ]
  },
  {
   "cell_type": "markdown",
   "metadata": {},
   "source": [
    "## parameters"
   ]
  },
  {
   "cell_type": "code",
   "execution_count": 127,
   "metadata": {},
   "outputs": [],
   "source": [
    "d = 20\n",
    "B = 1\n",
    "T = 100"
   ]
  },
  {
   "cell_type": "code",
   "execution_count": 128,
   "metadata": {},
   "outputs": [],
   "source": [
    "ds = (np.exp(np.linspace(-1,0,11))*d).astype(int)\n",
    "n_iter = 100"
   ]
  },
  {
   "cell_type": "code",
   "execution_count": 129,
   "metadata": {},
   "outputs": [
    {
     "data": {
      "text/plain": [
       "array([ 7,  8,  8,  9, 10, 12, 13, 14, 16, 18, 20])"
      ]
     },
     "execution_count": 129,
     "metadata": {},
     "output_type": "execute_result"
    }
   ],
   "source": [
    "ds"
   ]
  },
  {
   "cell_type": "markdown",
   "metadata": {},
   "source": [
    "## 3.2 Gaussian Distributed Score"
   ]
  },
  {
   "cell_type": "markdown",
   "metadata": {},
   "source": [
    "## simulation"
   ]
  },
  {
   "cell_type": "code",
   "execution_count": 130,
   "metadata": {
    "scrolled": true
   },
   "outputs": [
    {
     "name": "stdout",
     "output_type": "stream",
     "text": [
      "0-th d: 7\n",
      "1-th d: 8\n",
      "2-th d: 8\n",
      "3-th d: 9\n",
      "4-th d: 10\n",
      "5-th d: 12\n",
      "6-th d: 13\n",
      "7-th d: 14\n",
      "8-th d: 16\n",
      "9-th d: 18\n",
      "10-th d: 20\n"
     ]
    }
   ],
   "source": [
    "l2es = np.zeros((len(ds), n_iter))\n",
    "lambdas_2_I = np.zeros((len(ds), n_iter))\n",
    "lambdas_2_L = np.zeros((len(ds)))\n",
    "kappa = np.zeros((len(ds), n_iter))\n",
    "for i, d in enumerate(ds):\n",
    "    print(\"%d-th d: %d\"%(i, d))\n",
    "    \n",
    "    A_matrix = np.logical_and(np.arange(d)[:,None] != np.arange(d),\n",
    "                (np.maximum(np.arange(d)[:,None] * np.ones(d),\n",
    "                            np.ones(d)[:,None] * np.arange(d)) < d/2) +\n",
    "                (np.minimum(np.arange(d)[:,None] * np.ones(d),\n",
    "                            np.ones(d)[:,None] * np.arange(d)) >= d/2) +\n",
    "                (np.abs(np.arange(d)[:,None] - np.arange(d)) < 2))* T\n",
    "    L_matrix = (np.diag(np.sum(A_matrix,0)) - A_matrix) # / np.sum(A_matrix) * 2 * 2\n",
    "    u, v = la.eigh(L_matrix)\n",
    "    L_isqrt = v @ (np.concatenate([[0], 1/np.sqrt(u[1:])])*v).T\n",
    "    lambdas_2_L[i] = la.eigvalsh(L_matrix)[1]\n",
    "\n",
    "    for j in np.arange(n_iter):\n",
    "        w_star = np.random.normal(size=d)\n",
    "        w_star = w_star - np.mean(w_star)\n",
    "        w_star = w_star / np.max(np.abs(w_star))\n",
    "        \n",
    "        _, l2e = simulate(d, w_star, A_matrix)\n",
    "        l2es[i,j] = l2e\n",
    "        \n",
    "        P_matrix = 1/(1+np.exp(w_star - w_star[:,None]))\n",
    "        B_matrix = P_matrix * (1-P_matrix) * A_matrix\n",
    "        I_matrix = (np.diag(np.sum(B_matrix,0)) - B_matrix) # / np.sum(A_matrix) * 2\n",
    "\n",
    "        lambdas_2_I[i,j] = la.eigvalsh(I_matrix)[1]\n",
    "        kappa[i,j] = 1/la.eigvalsh(L_isqrt @ I_matrix @ L_isqrt)[-1]"
   ]
  },
  {
   "cell_type": "markdown",
   "metadata": {},
   "source": [
    "## plots"
   ]
  },
  {
   "cell_type": "code",
   "execution_count": 131,
   "metadata": {},
   "outputs": [
    {
     "data": {
      "text/plain": [
       "<matplotlib.legend.Legend at 0x7f195e440510>"
      ]
     },
     "execution_count": 131,
     "metadata": {},
     "output_type": "execute_result"
    },
    {
     "data": {
      "image/png": "[encoded data removed]",
      "text/plain": [
       "<Figure size 324x288 with 1 Axes>"
      ]
     },
     "metadata": {
      "needs_background": "light"
     },
     "output_type": "display_data"
    }
   ],
   "source": [
    "plt.figure(figsize=(4.5,4))\n",
    "plt.plot(ds, np.quantile(l2es,0.95,axis=1), label=r'estimated')\n",
    "# plt.fill_between(Ws, np.mean(l2es,1) + 2*np.std(l2es,1)/np.sqrt(n_iter),\n",
    "#                 np.mean(l2es,1) - 2*np.std(l2es,1)/np.sqrt(n_iter), alpha=0.3)\n",
    "plt.plot(ds, ds*np.quantile(kappa/lambdas_2_I*np.exp(-1.8), 0.95, axis=1), label=r'this work')\n",
    "plt.plot(ds, ds/lambdas_2_L*np.exp(2), label=r'Shah et al. (2016)')\n",
    "plt.xlabel(r'$d$'); plt.yscale(\"log\"); plt.legend(loc='upper right')"
   ]
  },
  {
   "cell_type": "code",
   "execution_count": null,
   "metadata": {},
   "outputs": [],
   "source": []
  }
 ],
 "metadata": {
  "kernelspec": {
   "display_name": "Python 3",
   "language": "python",
   "name": "python3"
  },
  "language_info": {
   "codemirror_mode": {
    "name": "ipython",
    "version": 3
   },
   "file_extension": ".py",
   "mimetype": "text/x-python",
   "name": "python",
   "nbconvert_exporter": "python",
   "pygments_lexer": "ipython3",
   "version": "3.7.4"
  }
 },
 "nbformat": 4,
 "nbformat_minor": 4
}
